{
 "cells": [
  {
   "cell_type": "code",
   "execution_count": null,
   "metadata": {},
   "outputs": [],
   "source": [
    "for url_m in    \n",
    "    #get the soup of each movie\n",
    "    msoup = bs4.BeautifulSoup(requests.get(url_m).text, 'html5lib')\n",
    "    m_main = msoup.find('div', attrs = {'id':'main_top'})\n",
    "    # get the title of the movie\n",
    "    title = m_main.find('h1', attrs={'itemprop':'name'}).text.strip()\n",
    "    subtext = m_main.find_all('div', attrs={'class':'subtext'})\n",
    "    #movie content rating\n",
    "    moviveclass = subtext[0].find('meta', attrs={'itemprop':'contentRating'})['content']\n",
    "    # movie genre, there are several genre at the same time\n",
    "    genre_list = subtext[0].find_all('span', attrs={'itemprop':'genre'})\n",
    "    genre = [g.text.strip() for g in genre_list]\n",
    "    # date published\n",
    "    datepublish = subtext[0].find('meta', attrs={'itemprop':'datePublished'})['content']\n",
    "    #get the rating of the movie\n",
    "    rate = m_main.find('span', attrs={'itemprop':'ratingValue'}).text.strip()\n",
    "    # rating count\n",
    "    ratingCount = m_main.find('span', attrs={'itemprop':'ratingCount'}).text.strip()\n",
    "    # get the dirctor(s)\n",
    "    directorSpan = m_main.find_all('span', attrs={'itemprop':'director'})\n",
    "    director = [d.text.strip() for d in directorSpan]\n",
    "    # get the writer(s)\n",
    "    writerSpan = m_main.find_all('span', attrs={'itemprop':'creator'})\n",
    "    writer = [w.text.strip() for w in writerSpan]\n",
    "    #get the actors\n",
    "    actorSpan = m_main.find_all('span', attrs={'itemprop':'actors'})\n",
    "    actor = [a.text.strip() for a in actorSpan]\n",
    "    #get the summary of the movie\n",
    "    summary = m_main.find('div', attrs= {'class':'summary_text'}).text.strip()\n",
    "    \n",
    "    m_main_bottom = msoup.find('div', attrs={'id':'main_bottom'})\n",
    "    \n",
    "    #get the description\n",
    "    descriptionDiv = m_main_bottom.find('div', attrs={'itemprop':'description'})\n",
    "    description = descriptionDiv.p.text.strip()\n",
    "    # description writer\n",
    "    description_writer = descriptionDiv.a.text.strip()\n",
    "    #plot key words\n",
    "    plot_keyword_div = m_main_bottom.find('div', attrs={'itemprop':'keywords'})\n",
    "    keyword_spanlist = plot_keyword_div.find_all('span', attrs={'itemprop':'keywords'})\n",
    "    plot_keyword = [a.text for a in keyword_spanlist]\n",
    "\n",
    "    # including information about country, language, date, filming location, color, budget and aspect ratio, box office\n",
    "    # and so on.\n",
    "    content_detail = m_main_bottom.find('div',attrs={'id':'titleDetails'})\n",
    "    time = content_detail.find('time', attrs= {'itemprop':'duration'}).text\n",
    "    detail = content_detail.find_all('h4', attrs={'class':'inline'})\n",
    "    detail_header = [aa.text for aa in detail]\n",
    "    detail_content = content_detail.find_all('div', attrs={'class':'txt-block'})\n",
    "    detail_list = [t.text.strip() for t in detail_content]\n",
    "    if 'Facebook' in detail_list:\n",
    "        a = content_detail.div.a\n",
    "        facebook_link = a['href']\n",
    "    \n",
    "    else:\n",
    "        facebook_link = 'None' "
   ]
  }
 ],
 "metadata": {
  "kernelspec": {
   "display_name": "Python 3",
   "language": "python",
   "name": "python3"
  },
  "language_info": {
   "codemirror_mode": {
    "name": "ipython",
    "version": 3
   },
   "file_extension": ".py",
   "mimetype": "text/x-python",
   "name": "python",
   "nbconvert_exporter": "python",
   "pygments_lexer": "ipython3",
   "version": "3.6.4"
  }
 },
 "nbformat": 4,
 "nbformat_minor": 2
}
