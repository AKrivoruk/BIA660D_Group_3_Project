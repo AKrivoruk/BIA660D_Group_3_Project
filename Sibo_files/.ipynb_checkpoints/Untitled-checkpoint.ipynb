{
 "cells": [
  {
   "cell_type": "code",
   "execution_count": 81,
   "metadata": {
    "collapsed": true,
    "nbpresent": {
     "id": "68bade12-2999-4554-bcc7-6da2439a0563"
    }
   },
   "outputs": [],
   "source": [
    "import requests\n",
    "import bs4\n",
    "import re\n",
    "import random\n",
    "import time\n",
    "import pandas as pd"
   ]
  },
  {
   "cell_type": "code",
   "execution_count": 2,
   "metadata": {
    "collapsed": true,
    "nbpresent": {
     "id": "2f2b96b2-e1d2-49c8-b746-11cc10612d1f"
    }
   },
   "outputs": [],
   "source": [
    "url = '''http://www.imdb.com/list/ls057823854/?sort=alpha,asc&st_dt=&mode=simple&page=1&ref_=ttls_vw_smp'''"
   ]
  },
  {
   "cell_type": "code",
   "execution_count": 62,
   "metadata": {
    "collapsed": true,
    "nbpresent": {
     "id": "f7e6e700-65d1-4de7-86d8-925e24da84a9"
    }
   },
   "outputs": [],
   "source": [
    "soup = bs4.BeautifulSoup(requests.get(url).text, 'html5lib')"
   ]
  },
  {
   "cell_type": "code",
   "execution_count": 63,
   "metadata": {
    "collapsed": true,
    "nbpresent": {
     "id": "cc456739-798c-453b-a32d-6adcbfbbd69a"
    }
   },
   "outputs": [],
   "source": [
    "main = soup.find('div', attrs={'id':'main'})"
   ]
  },
  {
   "cell_type": "code",
   "execution_count": 64,
   "metadata": {
    "nbpresent": {
     "id": "5a43137d-57f8-445d-bbff-6b3956404ca9"
    }
   },
   "outputs": [],
   "source": [
    "lister = main.find('div', attrs={'class':'lister-list'})"
   ]
  },
  {
   "cell_type": "code",
   "execution_count": 65,
   "metadata": {},
   "outputs": [],
   "source": [
    "list_item = lister.find_all('span', class_='lister-item-header')"
   ]
  },
  {
   "cell_type": "code",
   "execution_count": 66,
   "metadata": {},
   "outputs": [],
   "source": [
    "title_image = lister.find_all('div', attrs={'class':'lister-item-image'})\n",
    "title_sublink = []\n",
    "for title in title_image:\n",
    "    a = title.a\n",
    "    href = a['href']\n",
    "    title_sublink.append(href)"
   ]
  },
  {
   "cell_type": "code",
   "execution_count": 68,
   "metadata": {
    "collapsed": true
   },
   "outputs": [
    {
     "data": {
      "text/plain": [
       "['/title/tt1024733/?ref_=ttls_li_i',\n",
       " '/title/tt0090557/?ref_=ttls_li_i',\n",
       " '/title/tt0118523/?ref_=ttls_li_i',\n",
       " '/title/tt0090556/?ref_=ttls_li_i',\n",
       " '/title/tt0092494/?ref_=ttls_li_i',\n",
       " '/title/tt0078718/?ref_=ttls_li_i',\n",
       " '/title/tt0259822/?ref_=ttls_li_i',\n",
       " '/title/tt0278259/?ref_=ttls_li_i',\n",
       " '/title/tt0078721/?ref_=ttls_li_i',\n",
       " '/title/tt1179933/?ref_=ttls_li_i',\n",
       " '/title/tt0499603/?ref_=ttls_li_i',\n",
       " '/title/tt0147800/?ref_=ttls_li_i',\n",
       " '/title/tt1715873/?ref_=ttls_li_i',\n",
       " '/title/tt0085121/?ref_=ttls_li_i',\n",
       " '/title/tt0443649/?ref_=ttls_li_i',\n",
       " '/title/tt3397754/?ref_=ttls_li_i',\n",
       " '/title/tt0899128/?ref_=ttls_li_i',\n",
       " '/title/tt0214388/?ref_=ttls_li_i',\n",
       " '/title/tt0115433/?ref_=ttls_li_i',\n",
       " '/title/tt1712159/?ref_=ttls_li_i',\n",
       " '/title/tt2879552/?ref_=ttls_li_i',\n",
       " '/title/tt0331811/?ref_=ttls_li_i',\n",
       " '/title/tt0118528/?ref_=ttls_li_i',\n",
       " '/title/tt1160368/?ref_=ttls_li_i',\n",
       " '/title/tt1542344/?ref_=ttls_li_i',\n",
       " '/title/tt0106188/?ref_=ttls_li_i',\n",
       " '/title/tt0798817/?ref_=ttls_li_i',\n",
       " '/title/tt0337563/?ref_=ttls_li_i',\n",
       " '/title/tt0758726/?ref_=ttls_li_i',\n",
       " '/title/tt0450385/?ref_=ttls_li_i',\n",
       " '/title/tt0103594/?ref_=ttls_li_i',\n",
       " '/title/tt0179626/?ref_=ttls_li_i',\n",
       " '/title/tt0450232/?ref_=ttls_li_i',\n",
       " '/title/tt1646876/?ref_=ttls_li_i',\n",
       " '/title/tt0974661/?ref_=ttls_li_i',\n",
       " '/title/tt1909270/?ref_=ttls_li_i',\n",
       " '/title/tt0068156/?ref_=ttls_li_i',\n",
       " '/title/tt0094593/?ref_=ttls_li_i',\n",
       " '/title/tt0074084/?ref_=ttls_li_i',\n",
       " '/title/tt0078723/?ref_=ttls_li_i',\n",
       " '/title/tt0094594/?ref_=ttls_li_i',\n",
       " '/title/tt0087803/?ref_=ttls_li_i',\n",
       " '/title/tt0498637/?ref_=ttls_li_i',\n",
       " '/title/tt1602472/?ref_=ttls_li_i',\n",
       " '/title/tt0841044/?ref_=ttls_li_i',\n",
       " '/title/tt0115438/?ref_=ttls_li_i',\n",
       " '/title/tt0322259/?ref_=ttls_li_i',\n",
       " '/title/tt1351678/?ref_=ttls_li_i',\n",
       " '/title/tt0137338/?ref_=ttls_li_i',\n",
       " '/title/tt0264323/?ref_=ttls_li_i',\n",
       " '/title/tt0157262/?ref_=ttls_li_i',\n",
       " '/title/tt0086837/?ref_=ttls_li_i',\n",
       " '/title/tt1190080/?ref_=ttls_li_i',\n",
       " '/title/tt0478087/?ref_=ttls_li_i',\n",
       " '/title/tt1711425/?ref_=ttls_li_i',\n",
       " '/title/tt0315733/?ref_=ttls_li_i',\n",
       " '/title/tt1232829/?ref_=ttls_li_i',\n",
       " '/title/tt0075610/?ref_=ttls_li_i',\n",
       " '/title/tt0274309/?ref_=ttls_li_i',\n",
       " '/title/tt0307901/?ref_=ttls_li_i',\n",
       " '/title/tt0988595/?ref_=ttls_li_i',\n",
       " '/title/tt0191754/?ref_=ttls_li_i',\n",
       " '/title/tt0289043/?ref_=ttls_li_i',\n",
       " '/title/tt0088650/?ref_=ttls_li_i',\n",
       " '/title/tt0463854/?ref_=ttls_li_i',\n",
       " '/title/tt0472582/?ref_=ttls_li_i',\n",
       " '/title/tt1187043/?ref_=ttls_li_i',\n",
       " '/title/tt0094137/?ref_=ttls_li_i',\n",
       " '/title/tt0098966/?ref_=ttls_li_i',\n",
       " '/title/tt0103596/?ref_=ttls_li_i',\n",
       " '/title/tt0109015/?ref_=ttls_li_i',\n",
       " '/title/tt0112255/?ref_=ttls_li_i',\n",
       " '/title/tt0118539/?ref_=ttls_li_i',\n",
       " '/title/tt0199290/?ref_=ttls_li_i',\n",
       " '/title/tt0075612/?ref_=ttls_li_i',\n",
       " '/title/tt1772271/?ref_=ttls_li_i',\n",
       " '/title/tt0389722/?ref_=ttls_li_i',\n",
       " '/title/tt1622547/?ref_=ttls_li_i',\n",
       " '/title/tt0416449/?ref_=ttls_li_i',\n",
       " '/title/tt0233142/?ref_=ttls_li_i',\n",
       " '/title/tt1253863/?ref_=ttls_li_i',\n",
       " '/title/tt0101254/?ref_=ttls_li_i',\n",
       " '/title/tt1680045/?ref_=ttls_li_i',\n",
       " '/title/tt0381849/?ref_=ttls_li_i',\n",
       " '/title/tt1514041/?ref_=ttls_li_i',\n",
       " '/title/tt0070068/?ref_=ttls_li_i',\n",
       " '/title/tt0243736/?ref_=ttls_li_i',\n",
       " '/title/tt0453562/?ref_=ttls_li_i',\n",
       " '/title/tt0164312/?ref_=ttls_li_i',\n",
       " '/title/tt0914837/?ref_=ttls_li_i',\n",
       " '/title/tt0362389/?ref_=ttls_li_i',\n",
       " '/title/tt0083511/?ref_=ttls_li_i',\n",
       " '/title/tt0473434/?ref_=ttls_li_i',\n",
       " '/title/tt1707391/?ref_=ttls_li_i',\n",
       " '/title/tt1486193/?ref_=ttls_li_i',\n",
       " '/title/tt0343660/?ref_=ttls_li_i',\n",
       " '/title/tt1306980/?ref_=ttls_li_i',\n",
       " '/title/tt1022603/?ref_=ttls_li_i',\n",
       " '/title/tt0090567/?ref_=ttls_li_i',\n",
       " '/title/tt0120577/?ref_=ttls_li_i']"
      ]
     },
     "execution_count": 68,
     "metadata": {},
     "output_type": "execute_result"
    }
   ],
   "source": [
    "title_sublink"
   ]
  },
  {
   "cell_type": "code",
   "execution_count": null,
   "metadata": {
    "collapsed": true
   },
   "outputs": [],
   "source": [
    "http://www.imdb.com/list/ls057823854/?st_dt=&mode=simple&page=99&ref_=ttls_vw_smp&sort=alpha,asc"
   ]
  },
  {
   "cell_type": "code",
   "execution_count": 73,
   "metadata": {
    "collapsed": true
   },
   "outputs": [],
   "source": [
    "baselink = 'http://www.imdb.com/list/ls057823854/?st_dt=&mode=simple&page='\n",
    "page=[]\n",
    "for i in list(range(1,101)):\n",
    "    page_link = baselink + str(i) + '&ref_=ttls_vw_smp&sort=alpha,asc'\n",
    "    page.append(page_link)\n",
    "    "
   ]
  },
  {
   "cell_type": "code",
   "execution_count": 77,
   "metadata": {},
   "outputs": [],
   "source": [
    "title_sublink = []\n",
    "for p in page:\n",
    "    soup = bs4.BeautifulSoup(requests.get(p).text, 'html5lib')\n",
    "    main = soup.find('div', attrs={'id':'main'})\n",
    "    lister = main.find('div', attrs={'class':'lister-list'})\n",
    "    list_item = lister.find_all('span', class_='lister-item-header')\n",
    "    title_image = lister.find_all('div', attrs={'class':'lister-item-image'})\n",
    "\n",
    "    for title in title_image:\n",
    "        a = title.a\n",
    "        href = a['href']\n",
    "        title_sublink.append(href)\n",
    "        \n",
    "    normal_delay = random.normalvariate(2, 0.5)\n",
    "    time.sleep(normal_delay)"
   ]
  },
  {
   "cell_type": "code",
   "execution_count": 79,
   "metadata": {},
   "outputs": [
    {
     "data": {
      "text/plain": [
       "9953"
      ]
     },
     "execution_count": 79,
     "metadata": {},
     "output_type": "execute_result"
    }
   ],
   "source": [
    "len(title_sublink)"
   ]
  },
  {
   "cell_type": "code",
   "execution_count": 85,
   "metadata": {},
   "outputs": [],
   "source": [
    "titlelinks = pd.DataFrame(title_sublink)\n",
    "titlelinks.to_csv('titlelinks.txt',sep=';', index=None, header=None)"
   ]
  },
  {
   "cell_type": "code",
   "execution_count": 87,
   "metadata": {
    "collapsed": true
   },
   "outputs": [],
   "source": [
    "url_m = '''http://www.imdb.com/title/tt1024733/?ref_=tt_urv'''"
   ]
  },
  {
   "cell_type": "code",
   "execution_count": 88,
   "metadata": {},
   "outputs": [],
   "source": [
    "msoup = bs4.BeautifulSoup(requests.get(url_m).text, 'html5lib')\n",
    "m_main = msoup.find('div', attrs = {'id':'main_top'})"
   ]
  },
  {
   "cell_type": "code",
   "execution_count": 95,
   "metadata": {
    "collapsed": true
   },
   "outputs": [],
   "source": [
    "title = m_main.find('h1', attrs={'itemprop':'name'}).text.strip()"
   ]
  },
  {
   "cell_type": "code",
   "execution_count": 104,
   "metadata": {},
   "outputs": [],
   "source": [
    "subtext = m_main.find_all('div', attrs={'class':'subtext'})"
   ]
  },
  {
   "cell_type": "code",
   "execution_count": 108,
   "metadata": {},
   "outputs": [
    {
     "data": {
      "text/plain": [
       "[<div class=\"subtext\">\n",
       "                     <meta content=\"PG-13\" itemprop=\"contentRating\"/>PG-13\n",
       " <span class=\"ghost\">|</span>                    <time datetime=\"PT98M\" itemprop=\"duration\">\n",
       "                         1h 38min\n",
       "                     </time>\n",
       " <span class=\"ghost\">|</span>\n",
       " <a href=\"/genre/Comedy?ref_=tt_ov_inf\"><span class=\"itemprop\" itemprop=\"genre\">Comedy</span></a>, \n",
       " <a href=\"/genre/Drama?ref_=tt_ov_inf\"><span class=\"itemprop\" itemprop=\"genre\">Drama</span></a>\n",
       " \n",
       " <span class=\"ghost\">|</span>\n",
       " <a href=\"/title/tt1024733/releaseinfo?ref_=tt_ov_inf\" title=\"See more release dates\">11 January 2009 (USA)\n",
       " <meta content=\"2009-01-11\" itemprop=\"datePublished\"/>\n",
       " </a>            </div>]"
      ]
     },
     "execution_count": 108,
     "metadata": {},
     "output_type": "execute_result"
    }
   ],
   "source": [
    "subtext"
   ]
  },
  {
   "cell_type": "code",
   "execution_count": 128,
   "metadata": {},
   "outputs": [],
   "source": [
    "moviveclass = subtext[0].find('meta', attrs={'itemprop':'contentRating'})['content']"
   ]
  },
  {
   "cell_type": "code",
   "execution_count": 120,
   "metadata": {},
   "outputs": [],
   "source": [
    "time = subtext[0].find('time', attrs={'itemprop':'duration'}).text.strip()"
   ]
  },
  {
   "cell_type": "code",
   "execution_count": 124,
   "metadata": {},
   "outputs": [],
   "source": [
    "genre_list = subtext[0].find_all('span', attrs={'itemprop':'genre'})\n",
    "genre = [g.text.strip() for g in genre_list]"
   ]
  },
  {
   "cell_type": "code",
   "execution_count": 126,
   "metadata": {},
   "outputs": [],
   "source": [
    "datepublish = subtext[0].find('meta', attrs={'itemprop':'datePublished'})['content']"
   ]
  },
  {
   "cell_type": "code",
   "execution_count": 130,
   "metadata": {},
   "outputs": [],
   "source": [
    "rate = m_main.find('span', attrs={'itemprop':'ratingValue'}).text.strip()"
   ]
  },
  {
   "cell_type": "code",
   "execution_count": 133,
   "metadata": {},
   "outputs": [],
   "source": [
    "ratingCount = m_main.find('span', attrs={'itemprop':'ratingCount'}).text.strip()"
   ]
  },
  {
   "cell_type": "code",
   "execution_count": 136,
   "metadata": {
    "collapsed": true
   },
   "outputs": [],
   "source": [
    "directorSpan = m_main.find_all('span', attrs={'itemprop':'director'})\n",
    "director = [d.text.strip() for d in directorSpan]"
   ]
  },
  {
   "cell_type": "code",
   "execution_count": 137,
   "metadata": {
    "collapsed": true
   },
   "outputs": [],
   "source": [
    "writerSpan = m_main.find_all('span', attrs={'itemprop':'creator'})\n",
    "writer = [w.text.strip() for w in writerSpan]"
   ]
  },
  {
   "cell_type": "code",
   "execution_count": 139,
   "metadata": {
    "collapsed": true
   },
   "outputs": [],
   "source": [
    "actorSpan = m_main.find_all('span', attrs={'itemprop':'actors'})\n",
    "actor = [a.text.strip() for a in actorSpan]"
   ]
  },
  {
   "cell_type": "code",
   "execution_count": 143,
   "metadata": {
    "collapsed": true
   },
   "outputs": [],
   "source": [
    "summary = m_main.find('div', attrs= {'class':'summary_text'}).text.strip()"
   ]
  },
  {
   "cell_type": "code",
   "execution_count": 170,
   "metadata": {},
   "outputs": [],
   "source": [
    "m_main_bottom = msoup.find('div', attrs={'id':'main_bottom'})\n",
    "descriptionDiv = m_main_bottom.find('div', attrs={'itemprop':'description'})\n",
    "description = descriptionDiv.p.text.strip()\n",
    "description_writer = descriptionDiv.a.text.strip()"
   ]
  },
  {
   "cell_type": "code",
   "execution_count": 168,
   "metadata": {},
   "outputs": [
    {
     "data": {
      "text/plain": [
       "\"\\nIn L.A., Flynn Parker loses his job as a health inspector when his time in prison comes to light, his girlfriend Maggie moves out because of his prevarications, and his ne'er-do-well father, Nat, summons him to Atlantic City with a tale of a malignant cancer. Flynn doesn't like Nat, a small-time hustler and the cause of Flynn's jail time, but Nat cajoles his son into a cross-country trip through family memories toward New Mexico where an experimental treatment awaits. The trip is not just about the past, but whether either can tell the truth - and then what to do with those truths. From time to time, Flynn calls Maggie to leave messages. And what about Flynn's mother?                Written by\\n<jhailey@hotmail.com>            \""
      ]
     },
     "execution_count": 168,
     "metadata": {},
     "output_type": "execute_result"
    }
   ],
   "source": []
  },
  {
   "cell_type": "code",
   "execution_count": null,
   "metadata": {
    "collapsed": true
   },
   "outputs": [],
   "source": []
  }
 ],
 "metadata": {
  "kernelspec": {
   "display_name": "Python [conda env:python3_evn]",
   "language": "python",
   "name": "conda-env-python3_evn-py"
  },
  "language_info": {
   "codemirror_mode": {
    "name": "ipython",
    "version": 3
   },
   "file_extension": ".py",
   "mimetype": "text/x-python",
   "name": "python",
   "nbconvert_exporter": "python",
   "pygments_lexer": "ipython3",
   "version": "3.6.4"
  }
 },
 "nbformat": 4,
 "nbformat_minor": 2
}
